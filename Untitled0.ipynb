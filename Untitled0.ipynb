{
  "nbformat": 4,
  "nbformat_minor": 0,
  "metadata": {
    "colab": {
      "provenance": []
    },
    "kernelspec": {
      "name": "python3",
      "display_name": "Python 3"
    },
    "language_info": {
      "name": "python"
    }
  },
  "cells": [
    {
      "cell_type": "markdown",
      "source": [
        "#Functions Assignment"
      ],
      "metadata": {
        "id": "hXc3cXW6qiUd"
      }
    },
    {
      "cell_type": "markdown",
      "source": [
        "##Theory Questions"
      ],
      "metadata": {
        "id": "aSX2srB6qovK"
      }
    },
    {
      "cell_type": "markdown",
      "source": [
        "1. What is the difference between a function and a method in Python?\n",
        "   - Function is a block of code that performs a task, while a method is a function that operates on an object."
      ],
      "metadata": {
        "id": "4HQFKQEDqvET"
      }
    },
    {
      "cell_type": "code",
      "execution_count": null,
      "metadata": {
        "colab": {
          "base_uri": "https://localhost:8080/"
        },
        "id": "p-HIwZzaqboK",
        "outputId": "37f77c59-b9d4-4e97-8640-d76dab045ce4"
      },
      "outputs": [
        {
          "output_type": "stream",
          "name": "stdout",
          "text": [
            "Hello, PW Skill!\n"
          ]
        }
      ],
      "source": [
        "#function expmple\n",
        "def greet(name):\n",
        "    return f\"Hello, {name}!\"\n",
        "\n",
        "print(greet(\"PW Skill\"))\n",
        "\n"
      ]
    },
    {
      "cell_type": "code",
      "source": [
        "# Defining a class\n",
        "class Greeting:\n",
        "    def say_hello(self):\n",
        "        return \"Hello!\"\n",
        "\n",
        "# Creating an instance of the class\n",
        "greet = Greeting()\n",
        "\n",
        "# Calling the method\n",
        "print(greet.say_hello())  # Output: Hello!\n"
      ],
      "metadata": {
        "colab": {
          "base_uri": "https://localhost:8080/"
        },
        "id": "5mDqMu7crwIT",
        "outputId": "8f498d47-b569-48ae-b67e-cb0d5d697edc"
      },
      "execution_count": null,
      "outputs": [
        {
          "output_type": "stream",
          "name": "stdout",
          "text": [
            "Hello!\n"
          ]
        }
      ]
    },
    {
      "cell_type": "markdown",
      "source": [
        "2. Explain the concept of function arguments and parameters in Python.\n",
        "   - function arguments:\n",
        "\n",
        "     A: These are the values that are sent to the function when it is called.\n",
        "\n",
        "     B: hey provide values for the function parameters.\n",
        "\n",
        "     C: During a function call, values passed through arguments should be in the order of parameters in the function definition.\n",
        "\n",
        "     parameters:\n",
        "\n",
        "     A. These are the variables listed in the parentheses of a function definition.\n",
        "\n",
        "     B. They specify the name and value of the argument.\n",
        "\n",
        "     C. They define the type and number of inputs a function can accept."
      ],
      "metadata": {
        "id": "DTQjShA6sfgC"
      }
    },
    {
      "cell_type": "code",
      "source": [
        "#Example of parameter\n",
        "def greet(name, age):  # 'name' and 'age' are parameters\n",
        "    print(f\"Hello, {name}! You are {age} years old.\")\n",
        "#Example of arguments\n",
        "greet(\"Souvik\", 21)  # \"Souvik\" and 30 are arguments"
      ],
      "metadata": {
        "colab": {
          "base_uri": "https://localhost:8080/"
        },
        "id": "5kPRDsB-tx1C",
        "outputId": "2785ea65-9e61-4e0a-86e1-2b62fdcc3198"
      },
      "execution_count": null,
      "outputs": [
        {
          "output_type": "stream",
          "name": "stdout",
          "text": [
            "Hello, Souvik! You are 21 years old.\n"
          ]
        }
      ]
    },
    {
      "cell_type": "markdown",
      "source": [
        "3.  What are the different ways to define and call a function in Python?\n",
        "    - We can define a function using the def keyword, and call it by typing the function name followed by parentheses."
      ],
      "metadata": {
        "id": "MykyjzhYuao5"
      }
    },
    {
      "cell_type": "code",
      "source": [
        "#define example\n",
        "def greet(name):\n",
        "    print(f\"Hello, {name}!\")\n",
        "#call example\n",
        "greet(\"Souvik\")\n",
        "\n"
      ],
      "metadata": {
        "colab": {
          "base_uri": "https://localhost:8080/"
        },
        "id": "kqRlduXCvPQx",
        "outputId": "3c5d3b27-3138-495f-a905-43175c81f0e3"
      },
      "execution_count": null,
      "outputs": [
        {
          "output_type": "stream",
          "name": "stdout",
          "text": [
            "Hello, Souvik!\n"
          ]
        }
      ]
    },
    {
      "cell_type": "markdown",
      "source": [
        "4.  What is the purpose of the `return` statement in a Python function?\n",
        "    - A return statement is used to end the execution of the function call and it “returns” the value of the expression following the return keyword to the caller. The statements after the return statements are not executed. If the return statement is without any expression, then the special value None is returned. A return statement is overall used to invoke a function so that the passed statements can be executed."
      ],
      "metadata": {
        "id": "MNpNgVRavf-R"
      }
    },
    {
      "cell_type": "code",
      "source": [
        "#Example\n",
        "def add(a, b):\n",
        "    return a + b\n",
        "\n",
        "result = add(1, 2)\n",
        "print(result)\n"
      ],
      "metadata": {
        "colab": {
          "base_uri": "https://localhost:8080/"
        },
        "id": "kvwGvwiyv5D5",
        "outputId": "55b0d530-7554-4785-f872-37ab648fbc93"
      },
      "execution_count": null,
      "outputs": [
        {
          "output_type": "stream",
          "name": "stdout",
          "text": [
            "3\n"
          ]
        }
      ]
    },
    {
      "cell_type": "markdown",
      "source": [
        "5. What are iterators in Python and how do they differ from iterables?\n",
        "   - In Python, an iterator is an object that allows us to loop through iterable objects like lists, tuples, and sets. Iterator is used to iterate over an iterable object using the __next__() method. Iterators have the __next__() method, which returns the next item of the object. Iterable is an object, that one can iterate over. It generates an Iterator when passed to iter() method."
      ],
      "metadata": {
        "id": "Awnwp1V7wFvo"
      }
    },
    {
      "cell_type": "code",
      "source": [
        "# Example with an iterable (a list)\n",
        "my_list = [\"cake\", \"Biscuit\", \"Ice cream\"]\n",
        "\n",
        "# Step 1: Get an iterator from the iterable\n",
        "my_iterator = iter(my_list)\n",
        "\n",
        "# Step 2: Iterate using next()\n",
        "print(next(my_iterator))\n",
        "print(next(my_iterator))\n",
        "print(next(my_iterator))\n",
        "\n"
      ],
      "metadata": {
        "colab": {
          "base_uri": "https://localhost:8080/"
        },
        "id": "Fj5cpx_kx2_3",
        "outputId": "3dd77d55-cc37-40c5-8155-e87bc5e82676"
      },
      "execution_count": null,
      "outputs": [
        {
          "output_type": "stream",
          "name": "stdout",
          "text": [
            "cake\n",
            "Biscuit\n",
            "Ice cream\n"
          ]
        }
      ]
    },
    {
      "cell_type": "markdown",
      "source": [
        "6. Explain the concept of generators in Python and how they are defined.\n",
        "   - In Python, a generator is a function that returns an iterator that produces a sequence of values when iterated over. Generators are useful when we want to produce a large sequence of values, but we don't want to store all of them in memory at once. Generators can be defined in 2 ways. First one is using a Generator Function (with yield keyword) and second one is using a Generator Expression. A generator function is defined like a regular function, but instead of using return to send a value back, it uses the yield keyword. When a function with yield is called, it returns a generator object instead of executing the function immediately. Generator expressions are similar to list comprehensions but instead of creating an entire list in memory, they create a generator. They are more concise than generator functions and are often used for short, simple generators."
      ],
      "metadata": {
        "id": "RN2T029ZyMbY"
      }
    },
    {
      "cell_type": "code",
      "source": [
        "#Example of a Generator Function:\n",
        "def count_up_to(max):\n",
        "    count = 1\n",
        "    while count <= max:\n",
        "        yield count\n",
        "        count += 2\n",
        "counter = count_up_to(3)\n",
        "for number in counter:\n",
        "    print(number)\n"
      ],
      "metadata": {
        "colab": {
          "base_uri": "https://localhost:8080/"
        },
        "id": "X4S4XUQ22TGd",
        "outputId": "0f20b66f-3d61-4ccb-c309-d294017eade0"
      },
      "execution_count": null,
      "outputs": [
        {
          "output_type": "stream",
          "name": "stdout",
          "text": [
            "1\n",
            "3\n"
          ]
        }
      ]
    },
    {
      "cell_type": "code",
      "source": [
        "#Example of a Generator Expressions:\n",
        "squares = (x**2 for x in range(1, 4))\n",
        "for square in squares:\n",
        "    print(square)\n"
      ],
      "metadata": {
        "colab": {
          "base_uri": "https://localhost:8080/"
        },
        "id": "uk5gfPF62_eF",
        "outputId": "adcef636-56a2-4068-fb4e-cd0e8b48e56a"
      },
      "execution_count": null,
      "outputs": [
        {
          "output_type": "stream",
          "name": "stdout",
          "text": [
            "1\n",
            "4\n",
            "9\n"
          ]
        }
      ]
    },
    {
      "cell_type": "markdown",
      "source": [
        "7. What are the advantages of using generators over regular functions?\n",
        "   - A: Generators produce values one at a time and do not store the entire sequence in memory. This is especially beneficial when working with large datasets or infinite sequences. In contrast, regular functions (like those that return lists) generate and store all values in memory at once.\n",
        "\n",
        "     B: Generators compute values only when they are needed (lazy evaluation). Regular functions, such as those that return lists, compute all values upfront and return the entire result immediately.\n",
        "\n",
        "     C: Generators can be more efficient in terms of time and memory, particularly for large datasets. Since values are produced lazily, there is no unnecessary computation or storage of unneeded values.\n",
        "\n",
        "     D: Generators maintain their internal state between iterations. They automatically remember where they left off and resume from that point, which makes them ideal for certain types of iterative processes.\n",
        "\n",
        "     E: Writing a generator function can often be more concise and readable than writing a function that manually handles state or returns a large collection."
      ],
      "metadata": {
        "id": "iLRtArJd3NRc"
      }
    },
    {
      "cell_type": "code",
      "source": [
        "# Generator function\n",
        "def generate_squares(n):\n",
        "    for i in range(n):\n",
        "        yield i**2\n",
        "\n",
        "# Calling the generator\n",
        "squares_gen = generate_squares(5)\n",
        "for square in squares_gen:\n",
        "    print(square)\n"
      ],
      "metadata": {
        "colab": {
          "base_uri": "https://localhost:8080/"
        },
        "id": "UAuGZRnt4BcM",
        "outputId": "ca7dd8c1-abeb-40b5-c7b1-151b6254268e"
      },
      "execution_count": null,
      "outputs": [
        {
          "output_type": "stream",
          "name": "stdout",
          "text": [
            "0\n",
            "1\n",
            "4\n",
            "9\n",
            "16\n"
          ]
        }
      ]
    },
    {
      "cell_type": "markdown",
      "source": [
        "8. What is a lambda function in Python and when is it typically used?\n",
        "   - A lambda function is a small, anonymous function that's useful for short-term tasks. It can be deifned using \"lamba\" keyword. This function can be used whenever we want to create a function that will only contain simple and short expressions."
      ],
      "metadata": {
        "id": "sVnvcISp4Gaz"
      }
    },
    {
      "cell_type": "code",
      "source": [
        "#example\n",
        "add = lambda x, y: x + y\n",
        "print(add(1, 3))\n"
      ],
      "metadata": {
        "colab": {
          "base_uri": "https://localhost:8080/"
        },
        "id": "GyWmynL5-EZ7",
        "outputId": "b75827c9-4f15-4a5e-ef4c-9546b190eae1"
      },
      "execution_count": null,
      "outputs": [
        {
          "output_type": "stream",
          "name": "stdout",
          "text": [
            "4\n"
          ]
        }
      ]
    },
    {
      "cell_type": "markdown",
      "source": [
        "9. Explain the purpose and usage of the `map()` function in Python.\n",
        "   - The map() function in Python is used to apply a function to all items in an iterable (e.g., list, tuple, set, etc.) and it returns a new iterable that contains the results.\n",
        "   \n",
        "   Usage: A- When applying a function to each element in an iterable. B- When using an already defined function instead of writing loops. C- When working with multiple iterables simultaneously."
      ],
      "metadata": {
        "id": "6HaAkmra-cup"
      }
    },
    {
      "cell_type": "code",
      "source": [
        "#example\n",
        "def square(num):\n",
        "    return num ** 2\n",
        "\n",
        "numbers = [1, 2, 3,]\n",
        "squared_numbers = list(map(square, numbers))\n",
        "\n",
        "print(squared_numbers)\n"
      ],
      "metadata": {
        "colab": {
          "base_uri": "https://localhost:8080/"
        },
        "id": "DNVSoMEv_jsZ",
        "outputId": "b9c0f92a-a154-4008-8d79-27a723f59aa9"
      },
      "execution_count": null,
      "outputs": [
        {
          "output_type": "stream",
          "name": "stdout",
          "text": [
            "[1, 4, 9]\n"
          ]
        }
      ]
    },
    {
      "cell_type": "markdown",
      "source": [
        "10. What is the difference between `map()`, `reduce()`, and `filter()` functions in Python?\n",
        "    - map() transforms each item in an iterable by applying a function. reduce()combines elements into a single value and filter() function filters out elements based on a condition (function that returns True or False)."
      ],
      "metadata": {
        "id": "dpirwBor_-tR"
      }
    },
    {
      "cell_type": "code",
      "source": [
        "#example of map()\n",
        "numbers = [1, 2, 3]\n",
        "square = list(map(lambda x: x ** 2, numbers))\n",
        "print(square)\n"
      ],
      "metadata": {
        "colab": {
          "base_uri": "https://localhost:8080/"
        },
        "id": "QyfaGEBVBW3w",
        "outputId": "4284fd73-82db-4ab9-a5fa-7ebf1d79d1e6"
      },
      "execution_count": null,
      "outputs": [
        {
          "output_type": "stream",
          "name": "stdout",
          "text": [
            "[1, 4, 9]\n"
          ]
        }
      ]
    },
    {
      "cell_type": "code",
      "source": [
        "#example of reduce()\n",
        "from functools import reduce\n",
        "\n",
        "numbers = [1, 2, 3]\n",
        "product = reduce(lambda x, y: x * y, numbers)\n",
        "print(product)\n"
      ],
      "metadata": {
        "colab": {
          "base_uri": "https://localhost:8080/"
        },
        "id": "1RDduWi1Bk0Y",
        "outputId": "47fc6923-abce-414c-d0a5-58cceeeccc18"
      },
      "execution_count": null,
      "outputs": [
        {
          "output_type": "stream",
          "name": "stdout",
          "text": [
            "6\n"
          ]
        }
      ]
    },
    {
      "cell_type": "code",
      "source": [
        "#example of filter()\n",
        "numbers = [1, 2, 3, 4, 5, 6]\n",
        "\n",
        "even = list(filter(lambda x: x % 2 == 0, numbers))\n",
        "\n",
        "print(even)\n"
      ],
      "metadata": {
        "colab": {
          "base_uri": "https://localhost:8080/"
        },
        "id": "gtodGkS1Bz0w",
        "outputId": "f2bfc2fd-c496-42f3-e4eb-b9cee7051e2c"
      },
      "execution_count": null,
      "outputs": [
        {
          "output_type": "stream",
          "name": "stdout",
          "text": [
            "[2, 4, 6]\n"
          ]
        }
      ]
    },
    {
      "cell_type": "markdown",
      "source": [
        "11.  Using pen & Paper write the internal mechanism for sum operation using  reduce function on this given list:[47,11,42,13];"
      ],
      "metadata": {
        "id": "k9W8sFeDCamI"
      }
    },
    {
      "cell_type": "markdown",
      "source": [
        "![assignment image.jpg](data:image/jpeg;base64,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)"
      ],
      "metadata": {
        "id": "6DD2AuT6ibA-"
      }
    },
    {
      "cell_type": "markdown",
      "source": [
        "##Practical Questions"
      ],
      "metadata": {
        "id": "UYfHoJMRKfIW"
      }
    },
    {
      "cell_type": "markdown",
      "source": [
        "1. Write a Python function that takes a list of numbers as input and returns the sum of all even numbers in\n",
        "the list."
      ],
      "metadata": {
        "id": "Tfrr-DBtKm-G"
      }
    },
    {
      "cell_type": "code",
      "source": [
        "def sum_of_evens(numbers):\n",
        "    total = 0\n",
        "    for num in numbers:\n",
        "        if num % 2 == 0:\n",
        "            total += num\n",
        "    return total\n",
        "numbers = [1, 2, 3, 4, 5, 6]\n",
        "print(sum_of_evens(numbers))  # Output: 30 (2 + 4 + 6 + 8 + 10)\n"
      ],
      "metadata": {
        "colab": {
          "base_uri": "https://localhost:8080/"
        },
        "id": "tmmPZJWmNbmI",
        "outputId": "290ada0e-f302-43fc-d8a9-e7bcbf1ef884"
      },
      "execution_count": null,
      "outputs": [
        {
          "output_type": "stream",
          "name": "stdout",
          "text": [
            "12\n"
          ]
        }
      ]
    },
    {
      "cell_type": "markdown",
      "source": [
        "2. Create a Python function that accepts a string and returns the reverse of that string."
      ],
      "metadata": {
        "id": "quuAC_UXN4HQ"
      }
    },
    {
      "cell_type": "code",
      "source": [
        "def reverse_string(s):\n",
        "    return s[::-1]\n",
        "print(reverse_string(\"PW Skill\"))\n"
      ],
      "metadata": {
        "colab": {
          "base_uri": "https://localhost:8080/"
        },
        "id": "9vFAPIp8N-Bf",
        "outputId": "101643c7-0541-4e60-dc44-9a2ff9fa68b2"
      },
      "execution_count": null,
      "outputs": [
        {
          "output_type": "stream",
          "name": "stdout",
          "text": [
            "llikS WP\n"
          ]
        }
      ]
    },
    {
      "cell_type": "markdown",
      "source": [
        "3. Implement a Python function that takes a list of integers and returns a new list containing the squares of\n",
        "each number."
      ],
      "metadata": {
        "id": "zXNdWhkwOW1w"
      }
    },
    {
      "cell_type": "code",
      "source": [
        "def square_numbers(numbers):\n",
        "    return [x ** 2 for x in numbers]\n",
        "nums = [1, 2, 3, 4]\n",
        "print(square_numbers(nums))\n"
      ],
      "metadata": {
        "colab": {
          "base_uri": "https://localhost:8080/"
        },
        "id": "Ll0QqDIfOaLQ",
        "outputId": "dc81b7f2-5c2a-4ade-e583-3d011af4b8a8"
      },
      "execution_count": null,
      "outputs": [
        {
          "output_type": "stream",
          "name": "stdout",
          "text": [
            "[1, 4, 9, 16]\n"
          ]
        }
      ]
    },
    {
      "cell_type": "markdown",
      "source": [
        "4. Write a Python function that checks if a given number is prime or not from 1 to 200."
      ],
      "metadata": {
        "id": "iEojW7--QHP4"
      }
    },
    {
      "cell_type": "code",
      "source": [
        "for num in range(1, 200):\n",
        "    if is_prime(num):\n",
        "        print(f\"{num} is a prime number.\")\n",
        "    else:\n",
        "        print(f\"{num} is not a prime number.\")"
      ],
      "metadata": {
        "colab": {
          "base_uri": "https://localhost:8080/"
        },
        "id": "z7erdRgyQjEe",
        "outputId": "5af1ee43-cce6-45b4-a2a5-bddd70f97991"
      },
      "execution_count": null,
      "outputs": [
        {
          "output_type": "stream",
          "name": "stdout",
          "text": [
            "1 is not a prime number.\n",
            "2 is a prime number.\n",
            "3 is a prime number.\n",
            "4 is not a prime number.\n",
            "5 is a prime number.\n",
            "6 is not a prime number.\n",
            "7 is a prime number.\n",
            "8 is not a prime number.\n",
            "9 is not a prime number.\n",
            "10 is not a prime number.\n",
            "11 is a prime number.\n",
            "12 is not a prime number.\n",
            "13 is a prime number.\n",
            "14 is not a prime number.\n",
            "15 is not a prime number.\n",
            "16 is not a prime number.\n",
            "17 is a prime number.\n",
            "18 is not a prime number.\n",
            "19 is a prime number.\n",
            "20 is not a prime number.\n",
            "21 is not a prime number.\n",
            "22 is not a prime number.\n",
            "23 is a prime number.\n",
            "24 is not a prime number.\n",
            "25 is not a prime number.\n",
            "26 is not a prime number.\n",
            "27 is not a prime number.\n",
            "28 is not a prime number.\n",
            "29 is a prime number.\n",
            "30 is not a prime number.\n",
            "31 is a prime number.\n",
            "32 is not a prime number.\n",
            "33 is not a prime number.\n",
            "34 is not a prime number.\n",
            "35 is not a prime number.\n",
            "36 is not a prime number.\n",
            "37 is a prime number.\n",
            "38 is not a prime number.\n",
            "39 is not a prime number.\n",
            "40 is not a prime number.\n",
            "41 is a prime number.\n",
            "42 is not a prime number.\n",
            "43 is a prime number.\n",
            "44 is not a prime number.\n",
            "45 is not a prime number.\n",
            "46 is not a prime number.\n",
            "47 is a prime number.\n",
            "48 is not a prime number.\n",
            "49 is not a prime number.\n",
            "50 is not a prime number.\n",
            "51 is not a prime number.\n",
            "52 is not a prime number.\n",
            "53 is a prime number.\n",
            "54 is not a prime number.\n",
            "55 is not a prime number.\n",
            "56 is not a prime number.\n",
            "57 is not a prime number.\n",
            "58 is not a prime number.\n",
            "59 is a prime number.\n",
            "60 is not a prime number.\n",
            "61 is a prime number.\n",
            "62 is not a prime number.\n",
            "63 is not a prime number.\n",
            "64 is not a prime number.\n",
            "65 is not a prime number.\n",
            "66 is not a prime number.\n",
            "67 is a prime number.\n",
            "68 is not a prime number.\n",
            "69 is not a prime number.\n",
            "70 is not a prime number.\n",
            "71 is a prime number.\n",
            "72 is not a prime number.\n",
            "73 is a prime number.\n",
            "74 is not a prime number.\n",
            "75 is not a prime number.\n",
            "76 is not a prime number.\n",
            "77 is not a prime number.\n",
            "78 is not a prime number.\n",
            "79 is a prime number.\n",
            "80 is not a prime number.\n",
            "81 is not a prime number.\n",
            "82 is not a prime number.\n",
            "83 is a prime number.\n",
            "84 is not a prime number.\n",
            "85 is not a prime number.\n",
            "86 is not a prime number.\n",
            "87 is not a prime number.\n",
            "88 is not a prime number.\n",
            "89 is a prime number.\n",
            "90 is not a prime number.\n",
            "91 is not a prime number.\n",
            "92 is not a prime number.\n",
            "93 is not a prime number.\n",
            "94 is not a prime number.\n",
            "95 is not a prime number.\n",
            "96 is not a prime number.\n",
            "97 is a prime number.\n",
            "98 is not a prime number.\n",
            "99 is not a prime number.\n",
            "100 is not a prime number.\n",
            "101 is a prime number.\n",
            "102 is not a prime number.\n",
            "103 is a prime number.\n",
            "104 is not a prime number.\n",
            "105 is not a prime number.\n",
            "106 is not a prime number.\n",
            "107 is a prime number.\n",
            "108 is not a prime number.\n",
            "109 is a prime number.\n",
            "110 is not a prime number.\n",
            "111 is not a prime number.\n",
            "112 is not a prime number.\n",
            "113 is a prime number.\n",
            "114 is not a prime number.\n",
            "115 is not a prime number.\n",
            "116 is not a prime number.\n",
            "117 is not a prime number.\n",
            "118 is not a prime number.\n",
            "119 is not a prime number.\n",
            "120 is not a prime number.\n",
            "121 is not a prime number.\n",
            "122 is not a prime number.\n",
            "123 is not a prime number.\n",
            "124 is not a prime number.\n",
            "125 is not a prime number.\n",
            "126 is not a prime number.\n",
            "127 is a prime number.\n",
            "128 is not a prime number.\n",
            "129 is not a prime number.\n",
            "130 is not a prime number.\n",
            "131 is a prime number.\n",
            "132 is not a prime number.\n",
            "133 is not a prime number.\n",
            "134 is not a prime number.\n",
            "135 is not a prime number.\n",
            "136 is not a prime number.\n",
            "137 is a prime number.\n",
            "138 is not a prime number.\n",
            "139 is a prime number.\n",
            "140 is not a prime number.\n",
            "141 is not a prime number.\n",
            "142 is not a prime number.\n",
            "143 is not a prime number.\n",
            "144 is not a prime number.\n",
            "145 is not a prime number.\n",
            "146 is not a prime number.\n",
            "147 is not a prime number.\n",
            "148 is not a prime number.\n",
            "149 is a prime number.\n",
            "150 is not a prime number.\n",
            "151 is a prime number.\n",
            "152 is not a prime number.\n",
            "153 is not a prime number.\n",
            "154 is not a prime number.\n",
            "155 is not a prime number.\n",
            "156 is not a prime number.\n",
            "157 is a prime number.\n",
            "158 is not a prime number.\n",
            "159 is not a prime number.\n",
            "160 is not a prime number.\n",
            "161 is not a prime number.\n",
            "162 is not a prime number.\n",
            "163 is a prime number.\n",
            "164 is not a prime number.\n",
            "165 is not a prime number.\n",
            "166 is not a prime number.\n",
            "167 is a prime number.\n",
            "168 is not a prime number.\n",
            "169 is not a prime number.\n",
            "170 is not a prime number.\n",
            "171 is not a prime number.\n",
            "172 is not a prime number.\n",
            "173 is a prime number.\n",
            "174 is not a prime number.\n",
            "175 is not a prime number.\n",
            "176 is not a prime number.\n",
            "177 is not a prime number.\n",
            "178 is not a prime number.\n",
            "179 is a prime number.\n",
            "180 is not a prime number.\n",
            "181 is a prime number.\n",
            "182 is not a prime number.\n",
            "183 is not a prime number.\n",
            "184 is not a prime number.\n",
            "185 is not a prime number.\n",
            "186 is not a prime number.\n",
            "187 is not a prime number.\n",
            "188 is not a prime number.\n",
            "189 is not a prime number.\n",
            "190 is not a prime number.\n",
            "191 is a prime number.\n",
            "192 is not a prime number.\n",
            "193 is a prime number.\n",
            "194 is not a prime number.\n",
            "195 is not a prime number.\n",
            "196 is not a prime number.\n",
            "197 is a prime number.\n",
            "198 is not a prime number.\n",
            "199 is a prime number.\n"
          ]
        }
      ]
    },
    {
      "cell_type": "markdown",
      "source": [
        "5.  Create an iterator class in Python that generates the Fibonacci sequence up to a specified number of\n",
        "terms."
      ],
      "metadata": {
        "id": "FAPL6mXkWDsX"
      }
    },
    {
      "cell_type": "code",
      "source": [
        "class FibonacciIterator:\n",
        "    def __init__(self, n_terms):\n",
        "        self.n_terms = n_terms\n",
        "        self.a, self.b = 0, 1\n",
        "        self.count = 0\n",
        "\n",
        "    def __iter__(self):\n",
        "        return self\n",
        "\n",
        "    def __next__(self):\n",
        "        if self.count >= self.n_terms:\n",
        "            raise StopIteration\n",
        "\n",
        "        self.count += 1\n",
        "        self.a, self.b = self.b, self.a + self.b\n",
        "        return self.a - self.b\n",
        "\n",
        "# Example usage\n",
        "fib = FibonacciIterator(10)\n",
        "for num in fib:\n",
        "    print(num)\n"
      ],
      "metadata": {
        "colab": {
          "base_uri": "https://localhost:8080/"
        },
        "id": "aoP9JtffWgrG",
        "outputId": "6b7617c4-8098-42d8-8d28-06d273943e0b"
      },
      "execution_count": null,
      "outputs": [
        {
          "output_type": "stream",
          "name": "stdout",
          "text": [
            "0\n",
            "-1\n",
            "-1\n",
            "-2\n",
            "-3\n",
            "-5\n",
            "-8\n",
            "-13\n",
            "-21\n",
            "-34\n"
          ]
        }
      ]
    },
    {
      "cell_type": "markdown",
      "source": [
        "6.  Write a generator function in Python that yields the powers of 2 up to a given exponent."
      ],
      "metadata": {
        "id": "mFd95CknWpr-"
      }
    },
    {
      "cell_type": "code",
      "source": [
        "def powers_of_two(exponent):\n",
        "    for i in range(exponent + 1):\n",
        "        yield 2 ** i\n",
        "\n",
        "# Example\n",
        "for num in powers_of_two(4):\n",
        "    print(num)\n"
      ],
      "metadata": {
        "colab": {
          "base_uri": "https://localhost:8080/"
        },
        "id": "WLFttSr2Wxsd",
        "outputId": "1c6c8d65-aaab-4e6b-b750-39c32801f1ea"
      },
      "execution_count": null,
      "outputs": [
        {
          "output_type": "stream",
          "name": "stdout",
          "text": [
            "1\n",
            "2\n",
            "4\n",
            "8\n",
            "16\n"
          ]
        }
      ]
    },
    {
      "cell_type": "markdown",
      "source": [
        "7.  Implement a generator function that reads a file line by line and yields each line as a string."
      ],
      "metadata": {
        "id": "n5_-_EadW-QO"
      }
    },
    {
      "cell_type": "code",
      "source": [
        "def read_file(file_path):\n",
        "    for line in open(file_path):\n",
        "        yield line\n",
        "\n",
        "# Example\n",
        "with open(\"example.txt\", \"w\") as f:\n",
        "    f.write(\"Hello, PW skill!\\n\")\n",
        "    f.write(\"This is a test work.\\n\")\n",
        "\n",
        "for line in read_file(\"example.txt\"):\n",
        "    print(line, end=\"\")\n"
      ],
      "metadata": {
        "colab": {
          "base_uri": "https://localhost:8080/"
        },
        "id": "gjkS4K0uX7jd",
        "outputId": "2bdfa635-0355-4856-80d5-cb6d518943c2"
      },
      "execution_count": null,
      "outputs": [
        {
          "output_type": "stream",
          "name": "stdout",
          "text": [
            "Hello, PW skill!\n",
            "This is a test work.\n"
          ]
        }
      ]
    },
    {
      "cell_type": "markdown",
      "source": [
        "8. Use a lambda function in Python to sort a list of tuples based on the second element of each tuple"
      ],
      "metadata": {
        "id": "IUgAgi35YLkH"
      }
    },
    {
      "cell_type": "code",
      "source": [
        "# List of tuples\n",
        "data = [(1, 3), (4, 1), (2, 2), (5, 0)]\n",
        "\n",
        "# Sorting based on the second element of each tuple\n",
        "sorted_data = sorted(data, key=lambda x: x[1])\n",
        "\n",
        "print(sorted_data)\n"
      ],
      "metadata": {
        "colab": {
          "base_uri": "https://localhost:8080/"
        },
        "id": "0RyTqM4oYNtW",
        "outputId": "c7fdb2c2-bf4f-43e5-e869-93fa3fdf0c42"
      },
      "execution_count": null,
      "outputs": [
        {
          "output_type": "stream",
          "name": "stdout",
          "text": [
            "[(5, 0), (4, 1), (2, 2), (1, 3)]\n"
          ]
        }
      ]
    },
    {
      "cell_type": "markdown",
      "source": [
        "9. Write a Python program that uses `map()` to convert a list of temperatures from Celsius to Fahrenheit."
      ],
      "metadata": {
        "id": "yn5GTnwWY1GG"
      }
    },
    {
      "cell_type": "code",
      "source": [
        "celsius = [0, 10, 20]\n",
        "\n",
        "fahrenheit = list(map(lambda c: (c * 9/5) + 32, celsius_temps))\n",
        "\n",
        "print(fahrenheit)\n"
      ],
      "metadata": {
        "colab": {
          "base_uri": "https://localhost:8080/"
        },
        "id": "Mpul_HS7Y6cl",
        "outputId": "4485fc6d-98fc-4843-f3a8-1524f73f487d"
      },
      "execution_count": null,
      "outputs": [
        {
          "output_type": "stream",
          "name": "stdout",
          "text": [
            "[32.0, 50.0, 68.0]\n"
          ]
        }
      ]
    },
    {
      "cell_type": "markdown",
      "source": [
        "10. Create a Python program that uses `filter()` to remove all the vowels from a given string."
      ],
      "metadata": {
        "id": "GPiwsSzoZTT2"
      }
    },
    {
      "cell_type": "code",
      "source": [
        "print(\"\".join(filter(lambda x: x.lower() not in \"aeiou\", \"Hello, Guys!\")))\n"
      ],
      "metadata": {
        "colab": {
          "base_uri": "https://localhost:8080/"
        },
        "id": "Xi3tcJn9dAGU",
        "outputId": "3ba933dd-73d0-41c7-feca-53f7fbf11c85"
      },
      "execution_count": null,
      "outputs": [
        {
          "output_type": "stream",
          "name": "stdout",
          "text": [
            "Hll, Gys!\n"
          ]
        }
      ]
    },
    {
      "cell_type": "markdown",
      "source": [
        "11. Imagine an accounting routine used in a book shop. It works on a list with sublists, which look like this:\n",
        "\n",
        "Write a Python program, which returns a list with 2-tuples. Each tuple consists of the order number and the\n",
        "product of the price per item and the quantity. The product should be increased by 10,- € if the value of the\n",
        "order is smaller than 100,00 €.\n",
        "\n",
        "Write a Python program using lambda and map."
      ],
      "metadata": {
        "id": "pSsTRtwJdjtk"
      }
    },
    {
      "cell_type": "code",
      "source": [
        "# Given list of book orders\n",
        "orders = [\n",
        "    (34587, \"Learning Python, Mark Lutz\", 4, 40.95),\n",
        "    (98762, \"Programming Python, Mark Lutz\", 5, 56.80),\n",
        "    (77226, \"Head First Python, Paul Barry\", 3, 32.95),\n",
        "    (88112, \"Einführung in Python3, Bernd Klein\", 3, 24.99),\n",
        "]\n",
        "\n",
        "# Using map and lambda to compute order totals\n",
        "result = list(map(lambda order: (order[0], order[2] * order[3] + (10 if order[2] * order[3] < 100 else 0)), orders))\n",
        "\n",
        "print(result)\n"
      ],
      "metadata": {
        "colab": {
          "base_uri": "https://localhost:8080/"
        },
        "id": "smNzoFLyd9v1",
        "outputId": "4ab3bee8-4ffb-49f9-bf29-bdabb416b324"
      },
      "execution_count": null,
      "outputs": [
        {
          "output_type": "stream",
          "name": "stdout",
          "text": [
            "[(34587, 163.8), (98762, 284.0), (77226, 108.85000000000001), (88112, 84.97)]\n"
          ]
        }
      ]
    }
  ]
}